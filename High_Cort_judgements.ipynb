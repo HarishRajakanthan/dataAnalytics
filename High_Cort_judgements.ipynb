{
  "cells": [
    {
      "cell_type": "code",
      "execution_count": null,
      "metadata": {
        "colab": {
          "base_uri": "https://localhost:8080/"
        },
        "id": "6wQTsNwxx7PT",
        "outputId": "3452dc39-e88b-4b1a-a4af-9f8c5e2e9a62"
      },
      "outputs": [
        {
          "output_type": "stream",
          "name": "stdout",
          "text": [
            "Looking in indexes: https://pypi.org/simple, https://us-python.pkg.dev/colab-wheels/public/simple/\n",
            "Collecting PyPDF2\n",
            "  Downloading pypdf2-2.11.2-py3-none-any.whl (220 kB)\n",
            "\u001b[K     |████████████████████████████████| 220 kB 5.1 MB/s \n",
            "\u001b[?25hRequirement already satisfied: typing_extensions>=3.10.0.0 in /usr/local/lib/python3.8/dist-packages (from PyPDF2) (4.1.1)\n",
            "Installing collected packages: PyPDF2\n",
            "Successfully installed PyPDF2-2.11.2\n"
          ]
        }
      ],
      "source": [
        "pip install PyPDF2\n"
      ]
    },
    {
      "cell_type": "code",
      "execution_count": null,
      "metadata": {
        "id": "ZOTEZBRltQ_c",
        "colab": {
          "base_uri": "https://localhost:8080/"
        },
        "outputId": "fee1d195-95e6-40e2-d1f4-fdc9f9790619"
      },
      "outputs": [
        {
          "output_type": "stream",
          "name": "stdout",
          "text": [
            "Mounted at /content/drive\n"
          ]
        }
      ],
      "source": [
        "import requests,sys,io\n",
        "import PyPDF2\n",
        "from urllib.parse import quote\n",
        "from google.colab import drive\n",
        "drive.mount('/content/drive', force_remount=True)\n",
        "#from tika import parser\n",
        "from concurrent.futures import ProcessPoolExecutor\n",
        "from tqdm import tqdm\n",
        "from requests.packages.urllib3.exceptions import InsecureRequestWarning\n",
        "\n",
        "requests.packages.urllib3.disable_warnings(InsecureRequestWarning)\n"
      ]
    },
    {
      "cell_type": "code",
      "execution_count": null,
      "metadata": {
        "id": "xlpKbGfxtYH_"
      },
      "outputs": [],
      "source": [
        "\n",
        "headers = {\n",
        "    'Accept': 'application/json, text/javascript, */*; q=0.01',\n",
        "    'Accept-Language': 'en-US,en;q=0.9',\n",
        "    'Connection': 'keep-alive',\n",
        "    'Content-Type': 'application/x-www-form-urlencoded; charset=UTF-8',\n",
        "    'Origin': 'https://www.mhc.tn.gov.in',\n",
        "    'Referer': 'https://www.mhc.tn.gov.in/judis/madras-do/index.php/casestatus/datewise',\n",
        "    'Sec-Fetch-Dest': 'empty',\n",
        "    'Sec-Fetch-Mode': 'cors',\n",
        "    'Sec-Fetch-Site': 'same-origin',\n",
        "    'User-Agent': 'Mozilla/5.0 (Windows NT 6.3) AppleWebKit/537.36 (KHTML, like Gecko) Chrome/107.0.0.0 Safari/537.36',\n",
        "    'X-Requested-With': 'XMLHttpRequest',\n",
        "    'sec-ch-ua': '\"Google Chrome\";v=\"107\", \"Chromium\";v=\"107\", \"Not=A?Brand\";v=\"24\"',\n",
        "    'sec-ch-ua-mobile': '?0',\n",
        "    'sec-ch-ua-platform': '\"Windows\"',\n",
        "}\n",
        "\n",
        "data = {\n",
        "    'dtfrom': '2022-09-01',\n",
        "    'dtto': '2022-10-01',\n",
        "}\n",
        "\n",
        "response = requests.post(\n",
        "    'https://www.mhc.tn.gov.in/judis/madras-do/index.php/casestatus/findtext',\n",
        "    headers=headers,\n",
        "    data=data,\n",
        "    verify=False\n",
        ")"
      ]
    },
    {
      "cell_type": "code",
      "execution_count": null,
      "metadata": {
        "id": "WdxS8HVItFQz"
      },
      "outputs": [],
      "source": [
        "def threadable(pdf_url,file_path):\n",
        "  output=''\n",
        "  data = requests.get(pdf_url,verify=False).content\n",
        "  #string_parsed = parser.from_buffer(data)\n",
        "  with io.BytesIO(data) as open_pdf_file:\n",
        "     read_pdf = PyPDF2.PdfFileReader(open_pdf_file)\n",
        "     for i in range(read_pdf.numPages):\n",
        "        page = read_pdf.getPage(i)\n",
        "        output += page.extractText()\n",
        "  #string_parsed = parser.from_buffer(data)\n",
        "  #if string_parsed['content'] is not None:\n",
        "    #if 'auction' in string_parsed['content']:\n",
        "  if 'auction' in output:\n",
        "    with open(file_path, 'wb') as f:\n",
        "      f.write(data)"
      ]
    },
    {
      "cell_type": "code",
      "execution_count": null,
      "metadata": {
        "colab": {
          "base_uri": "https://localhost:8080/"
        },
        "id": "3DhYH8k7ti6K",
        "outputId": "29b2c581-7f2b-4476-aa49-2f0e7434bc6e"
      },
      "outputs": [
        {
          "output_type": "stream",
          "name": "stdout",
          "text": [
            "\r  0%|          | 0/12332 [00:00<?, ?it/s]"
          ]
        },
        {
          "output_type": "stream",
          "name": "stderr",
          "text": [
            "\n",
            "  0%|          | 0/12332 [00:00<?, ?it/s]\u001b[A"
          ]
        },
        {
          "output_type": "stream",
          "name": "stdout",
          "text": [
            "\r  0%|          | 1/12332 [00:02<6:53:02,  2.01s/it]"
          ]
        },
        {
          "output_type": "stream",
          "name": "stderr",
          "text": [
            "\n",
            "  0%|          | 1/12332 [00:00<2:31:18,  1.36it/s]\u001b[A"
          ]
        },
        {
          "output_type": "stream",
          "name": "stdout",
          "text": [
            "  0%|          | 12/12332 [00:04<39:57,  5.14it/s]"
          ]
        },
        {
          "output_type": "stream",
          "name": "stderr",
          "text": [
            "\n",
            "  0%|          | 2/12332 [00:02<5:15:31,  1.54s/it]\u001b[A"
          ]
        },
        {
          "output_type": "stream",
          "name": "stdout",
          "text": [
            "  0%|          | 20/12332 [00:05<43:22,  4.73it/s]"
          ]
        },
        {
          "output_type": "stream",
          "name": "stderr",
          "text": [
            "\n",
            "  0%|          | 7/12332 [00:04<1:45:02,  1.96it/s]\u001b[A"
          ]
        },
        {
          "output_type": "stream",
          "name": "stdout",
          "text": [
            "  0%|          | 24/12332 [00:06<45:35,  4.50it/s]  "
          ]
        },
        {
          "output_type": "stream",
          "name": "stderr",
          "text": [
            "\n",
            "  0%|          | 21/12332 [00:05<38:18,  5.36it/s] \u001b[A"
          ]
        },
        {
          "output_type": "stream",
          "name": "stdout",
          "text": [
            "  0%|          | 34/12332 [00:07<19:22, 10.58it/s]"
          ]
        },
        {
          "output_type": "stream",
          "name": "stderr",
          "text": [
            "\n",
            "  0%|          | 22/12332 [00:05<42:54,  4.78it/s]\u001b[A"
          ]
        },
        {
          "output_type": "stream",
          "name": "stdout",
          "text": [
            "  1%|          | 115/12332 [00:15<22:29,  9.06it/s]"
          ]
        },
        {
          "output_type": "stream",
          "name": "stderr",
          "text": [
            "\n",
            "  0%|          | 35/12332 [00:14<1:32:23,  2.22it/s]\u001b[A"
          ]
        },
        {
          "output_type": "stream",
          "name": "stdout",
          "text": [
            "\r  1%|          | 116/12332 [00:15<26:58,  7.55it/s]\n"
          ]
        }
      ],
      "source": [
        "path = \"/content/drive/MyDrive/highcourt/\"\n",
        "futures=[]\n",
        "\n",
        "with ProcessPoolExecutor(max_workers=20) as executor:\n",
        "  with tqdm(total=len(response.json()[\"find_data\"]),file=sys.stdout) as progress:\n",
        "    for item in response.json()[\"find_data\"]:\n",
        "      pdf_name=quote(item[\"do_pdf_name\"])\n",
        "      pdf_url='https://www.mhc.tn.gov.in/judis/madras-do/index.php/casestatus/viewpdf/' + pdf_name\n",
        "      file_path=path + str(item[\"casetype\"]) + \"_\" +  str(item[\"caseno\"]) + \"_\" + str(item[\"caseyr\"]) + \"_\" + str(item[\"jud_dt\"]) + \".pdf\"\n",
        "      future =executor.submit(threadable,pdf_url,file_path)\n",
        "      future.add_done_callback(lambda p: progress.update())\n",
        "      futures.append(future)\n",
        "\n",
        "    results= [future.result() for future in tqdm(futures)]\n"
      ]
    }
  ],
  "metadata": {
    "colab": {
      "provenance": []
    },
    "kernelspec": {
      "display_name": "Python 3",
      "name": "python3"
    },
    "language_info": {
      "name": "python"
    }
  },
  "nbformat": 4,
  "nbformat_minor": 0
}